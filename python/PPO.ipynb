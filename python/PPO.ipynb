{
 "cells": [
  {
   "cell_type": "markdown",
   "metadata": {},
   "source": [
    "# Unity ML Agents\n",
    "## Proximal Policy Optimization (PPO)\n",
    "Contains an implementation of PPO as described [here](https://arxiv.org/abs/1707.06347)."
   ]
  },
  {
   "cell_type": "code",
   "execution_count": 1,
   "metadata": {
    "collapsed": true
   },
   "outputs": [],
   "source": [
    "import numpy as np\n",
    "import os\n",
    "import tensorflow as tf\n",
    "\n",
    "from ppo.history import *\n",
    "from ppo.models import *\n",
    "from ppo.trainer import Trainer\n",
    "from unityagents import *"
   ]
  },
  {
   "cell_type": "markdown",
   "metadata": {},
   "source": [
    "### Hyperparameters"
   ]
  },
  {
   "cell_type": "code",
   "execution_count": 2,
   "metadata": {
    "collapsed": true
   },
   "outputs": [],
   "source": [
    "### General parameters\n",
    "max_steps = 5e5 # Set maximum number of steps to run environment.\n",
    "run_path = \"ppo\" # The sub-directory name for model and summary statistics\n",
    "load_model = False # Whether to load a saved model.\n",
    "train_model = True # Whether to train the model.\n",
    "summary_freq = 10000 # Frequency at which to save training statistics.\n",
    "save_freq = 50000 # Frequency at which to save model.\n",
    "env_name = \"ball\" # Name of the training environment file.\n",
    "curriculum_file = None\n",
    "\n",
    "### Algorithm-specific parameters for tuning\n",
    "gamma = 0.99 # Reward discount rate.\n",
    "lambd = 0.95 # Lambda parameter for GAE.\n",
    "time_horizon = 2048 # How many steps to collect per agent before adding to buffer.\n",
    "beta = 1e-3 # Strength of entropy regularization\n",
    "num_epoch = 5 # Number of gradient descent steps per batch of experiences.\n",
    "num_layers = 2 # Number of hidden layers between state/observation encoding and value/policy layers.\n",
    "epsilon = 0.2 # Acceptable threshold around ratio of old and new policy probabilities.\n",
    "buffer_size = 2048 # How large the experience buffer should be before gradient descent.\n",
    "learning_rate = 3e-4 # Model learning rate.\n",
    "hidden_units = 64 # Number of units in hidden layer.\n",
    "batch_size = 64 # How many experiences per gradient descent update step.\n",
    "normalize = False\n",
    "\n",
    "### Logging dictionary for hyperparameters\n",
    "hyperparameter_dict = {'max_steps':max_steps, 'run_path':run_path, 'env_name':env_name,\n",
    "    'curriculum_file':curriculum_file, 'gamma':gamma, 'lambd':lambd, 'time_horizon':time_horizon,\n",
    "    'beta':beta, 'num_epoch':num_epoch, 'epsilon':epsilon, 'buffe_size':buffer_size,\n",
    "    'leaning_rate':learning_rate, 'hidden_units':hidden_units, 'batch_size':batch_size}"
   ]
  },
  {
   "cell_type": "markdown",
   "metadata": {},
   "source": [
    "### Load the environment"
   ]
  },
  {
   "cell_type": "code",
   "execution_count": 3,
   "metadata": {},
   "outputs": [
    {
     "name": "stderr",
     "output_type": "stream",
     "text": [
      "INFO:unityagents:\n",
      "'Ball3DAcademy' started successfully!\n"
     ]
    },
    {
     "name": "stdout",
     "output_type": "stream",
     "text": [
      "Unity Academy name: Ball3DAcademy\n",
      "        Number of brains: 1\n",
      "        Reset Parameters :\n",
      "\t\t\n",
      "Unity brain name: Ball3DBrain\n",
      "        Number of observations (per agent): 0\n",
      "        State space type: continuous\n",
      "        State space size (per agent): 8\n",
      "        Action space type: continuous\n",
      "        Action space size (per agent): 2\n",
      "        Memory space size (per agent): 0\n",
      "        Action descriptions: , \n"
     ]
    }
   ],
   "source": [
    "env = UnityEnvironment(file_name=env_name, curriculum=curriculum_file)\n",
    "print(str(env))\n",
    "brain_name = env.external_brain_names[0]"
   ]
  },
  {
   "cell_type": "markdown",
   "metadata": {},
   "source": [
    "### Train the Agent(s)"
   ]
  },
  {
   "cell_type": "code",
   "execution_count": 4,
   "metadata": {
    "scrolled": true
   },
   "outputs": [
    {
     "name": "stdout",
     "output_type": "stream",
     "text": [
      "Step: 10000. Mean Reward: 15.709643916913814. Std of Reward: 31.440954205571757.\n",
      "Step: 20000. Mean Reward: 9.970918822479844. Std of Reward: 25.80404078670682.\n",
      "Step: 30000. Mean Reward: 57.06323529411692. Std of Reward: 47.16160962972045.\n",
      "Step: 40000. Mean Reward: 78.53618421052526. Std of Reward: 39.14029346187647.\n",
      "Step: 50000. Mean Reward: 74.37329192546486. Std of Reward: 41.504988486775886.\n",
      "Saved Model\n",
      "Step: 60000. Mean Reward: 68.16379310344747. Std of Reward: 42.21160309899429.\n",
      "Step: 70000. Mean Reward: 31.039410187667315. Std of Reward: 39.98292030362428.\n",
      "Step: 80000. Mean Reward: 43.41333333333287. Std of Reward: 44.3588578151716.\n",
      "Step: 90000. Mean Reward: 54.25248868778214. Std of Reward: 46.54445600937972.\n",
      "Step: 100000. Mean Reward: 51.0324561403504. Std of Reward: 41.954486608691816.\n",
      "Saved Model\n",
      "Step: 110000. Mean Reward: 53.50176991150385. Std of Reward: 44.66042571657754.\n",
      "Step: 120000. Mean Reward: 23.58960498960477. Std of Reward: 37.078105683135334.\n",
      "Step: 130000. Mean Reward: 57.338048780487014. Std of Reward: 48.58277940514788.\n",
      "Step: 140000. Mean Reward: 68.08497109826493. Std of Reward: 46.13285294616907.\n",
      "Step: 150000. Mean Reward: 86.00142857142735. Std of Reward: 34.29115043213263.\n",
      "Saved Model\n",
      "Step: 160000. Mean Reward: 64.3984126984118. Std of Reward: 47.03964946530782.\n",
      "Step: 170000. Mean Reward: 70.23157894736744. Std of Reward: 45.03872599249822.\n",
      "Step: 180000. Mean Reward: 57.91507537688371. Std of Reward: 45.846814785754546.\n",
      "Step: 190000. Mean Reward: 63.78297872340337. Std of Reward: 47.10681194426847.\n",
      "Step: 200000. Mean Reward: 77.14331210190976. Std of Reward: 41.21512967188986.\n",
      "Saved Model\n",
      "Step: 210000. Mean Reward: 79.47718120805258. Std of Reward: 39.626955304252675.\n",
      "Step: 220000. Mean Reward: 82.91188811188692. Std of Reward: 37.127477411648584.\n",
      "Step: 230000. Mean Reward: 74.42654320987552. Std of Reward: 42.441244488463845.\n",
      "Step: 240000. Mean Reward: 74.67169811320659. Std of Reward: 40.20138633373352.\n",
      "Step: 250000. Mean Reward: 91.87938931297582. Std of Reward: 26.82274219507919.\n",
      "Saved Model\n",
      "Step: 260000. Mean Reward: 41.163481228668495. Std of Reward: 44.68413219244898.\n",
      "Step: 270000. Mean Reward: 45.735199999999544. Std of Reward: 44.08645189805988.\n",
      "Step: 280000. Mean Reward: 83.54513888888773. Std of Reward: 36.411149143155534.\n",
      "Step: 290000. Mean Reward: 83.52587412587295. Std of Reward: 36.684021622740374.\n",
      "Step: 300000. Mean Reward: 89.10814814814688. Std of Reward: 30.807945227866306.\n",
      "Saved Model\n",
      "Step: 310000. Mean Reward: 94.55158730158597. Std of Reward: 22.464623808942022.\n",
      "Step: 320000. Mean Reward: 88.86666666666545. Std of Reward: 30.30024080090066.\n",
      "Step: 330000. Mean Reward: 93.98582677165221. Std of Reward: 23.28114956577176.\n",
      "Step: 340000. Mean Reward: 96.82741935483735. Std of Reward: 17.377002501033.\n",
      "Step: 350000. Mean Reward: 95.31587301587169. Std of Reward: 20.948142368293066.\n",
      "Saved Model\n",
      "Step: 360000. Mean Reward: 85.64233576642216. Std of Reward: 34.726904781624924.\n",
      "Step: 370000. Mean Reward: 97.60162601625882. Std of Reward: 15.16870432344172.\n",
      "Step: 380000. Mean Reward: 97.62520325203117. Std of Reward: 15.020303838395098.\n",
      "Step: 390000. Mean Reward: 99.99999999999862. Std of Reward: 2.842170943040401e-14.\n",
      "Step: 400000. Mean Reward: 99.1816666666653. Std of Reward: 8.926962747143431.\n",
      "Saved Model\n",
      "Step: 410000. Mean Reward: 93.9171874999987. Std of Reward: 23.560739686814326.\n",
      "Step: 420000. Mean Reward: 89.16592592592467. Std of Reward: 30.64768775753523.\n",
      "Step: 430000. Mean Reward: 85.9699999999988. Std of Reward: 34.3672283682326.\n",
      "Step: 440000. Mean Reward: 85.32857142857023. Std of Reward: 34.92660526163409.\n",
      "Step: 450000. Mean Reward: 87.05220588235173. Std of Reward: 33.15656923400468.\n",
      "Saved Model\n",
      "Step: 460000. Mean Reward: 88.4397058823517. Std of Reward: 31.659726410442243.\n",
      "Step: 470000. Mean Reward: 80.90469798657605. Std of Reward: 38.846259242345454.\n",
      "Step: 480000. Mean Reward: 84.1846153846142. Std of Reward: 36.12706849439748.\n",
      "Step: 490000. Mean Reward: 81.65517241379195. Std of Reward: 38.35283729293711.\n",
      "Step: 500000. Mean Reward: 79.83576158940285. Std of Reward: 39.67562239586679.\n",
      "Saved Model\n",
      "Saved Model\n",
      "INFO:tensorflow:Restoring parameters from ./models/ppo\\model-500001.cptk\n"
     ]
    },
    {
     "name": "stderr",
     "output_type": "stream",
     "text": [
      "INFO:tensorflow:Restoring parameters from ./models/ppo\\model-500001.cptk\n"
     ]
    },
    {
     "name": "stdout",
     "output_type": "stream",
     "text": [
      "INFO:tensorflow:Froze 7 variables.\n"
     ]
    },
    {
     "name": "stderr",
     "output_type": "stream",
     "text": [
      "INFO:tensorflow:Froze 7 variables.\n"
     ]
    },
    {
     "name": "stdout",
     "output_type": "stream",
     "text": [
      "Converted 7 variables to const ops.\n"
     ]
    }
   ],
   "source": [
    "tf.reset_default_graph()\n",
    "\n",
    "if curriculum_file == \"None\":\n",
    "    curriculum_file = None\n",
    "\n",
    "\n",
    "def get_progress():\n",
    "    if curriculum_file is not None:\n",
    "        if env._curriculum.measure_type == \"progress\":\n",
    "            return steps / max_steps\n",
    "        elif env._curriculum.measure_type == \"reward\":\n",
    "            return last_reward\n",
    "        else:\n",
    "            return None\n",
    "    else:\n",
    "        return None\n",
    "\n",
    "# Create the Tensorflow model graph\n",
    "ppo_model = create_agent_model(env, lr=learning_rate,\n",
    "                               h_size=hidden_units, epsilon=epsilon,\n",
    "                               beta=beta, max_step=max_steps, \n",
    "                               normalize=normalize, num_layers=num_layers)\n",
    "\n",
    "is_continuous = (env.brains[brain_name].action_space_type == \"continuous\")\n",
    "use_observations = (env.brains[brain_name].number_observations > 0)\n",
    "use_states = (env.brains[brain_name].state_space_size > 0)\n",
    "\n",
    "model_path = './models/{}'.format(run_path)\n",
    "summary_path = './summaries/{}'.format(run_path)\n",
    "\n",
    "if not os.path.exists(model_path):\n",
    "    os.makedirs(model_path)\n",
    "\n",
    "if not os.path.exists(summary_path):\n",
    "    os.makedirs(summary_path)\n",
    "\n",
    "init = tf.global_variables_initializer()\n",
    "saver = tf.train.Saver()\n",
    "\n",
    "with tf.Session() as sess:\n",
    "    # Instantiate model parameters\n",
    "    if load_model:\n",
    "        print('Loading Model...')\n",
    "        ckpt = tf.train.get_checkpoint_state(model_path)\n",
    "        saver.restore(sess, ckpt.model_checkpoint_path)\n",
    "    else:\n",
    "        sess.run(init)\n",
    "    steps, last_reward = sess.run([ppo_model.global_step, ppo_model.last_reward])    \n",
    "    summary_writer = tf.summary.FileWriter(summary_path)\n",
    "    info = env.reset(train_mode=train_model, progress=get_progress())[brain_name]\n",
    "    trainer = Trainer(ppo_model, sess, info, is_continuous, use_observations, use_states, train_model)\n",
    "    if train_model:\n",
    "        trainer.write_text(summary_writer, 'Hyperparameters', hyperparameter_dict, steps)\n",
    "    while steps <= max_steps:\n",
    "        if env.global_done:\n",
    "            info = env.reset(train_mode=train_model, progress=get_progress())[brain_name]\n",
    "        # Decide and take an action\n",
    "        new_info = trainer.take_action(info, env, brain_name, steps, normalize)\n",
    "        info = new_info\n",
    "        trainer.process_experiences(info, time_horizon, gamma, lambd)\n",
    "        if len(trainer.training_buffer['actions']) > buffer_size and train_model:\n",
    "            # Perform gradient descent with experience buffer\n",
    "            trainer.update_model(batch_size, num_epoch)\n",
    "        if steps % summary_freq == 0 and steps != 0 and train_model:\n",
    "            # Write training statistics to tensorboard.\n",
    "            trainer.write_summary(summary_writer, steps, env._curriculum.lesson_number)\n",
    "        if steps % save_freq == 0 and steps != 0 and train_model:\n",
    "            # Save Tensorflow model\n",
    "            save_model(sess, model_path=model_path, steps=steps, saver=saver)\n",
    "        steps += 1\n",
    "        sess.run(ppo_model.increment_step)\n",
    "        if len(trainer.stats['cumulative_reward']) > 0:\n",
    "            mean_reward = np.mean(trainer.stats['cumulative_reward'])\n",
    "            sess.run(ppo_model.update_reward, feed_dict={ppo_model.new_reward: mean_reward})\n",
    "            last_reward = sess.run(ppo_model.last_reward)\n",
    "    # Final save Tensorflow model\n",
    "    if steps != 0 and train_model:\n",
    "        save_model(sess, model_path=model_path, steps=steps, saver=saver)\n",
    "env.close()\n",
    "export_graph(model_path, env_name)"
   ]
  },
  {
   "cell_type": "markdown",
   "metadata": {},
   "source": [
    "### Export the trained Tensorflow graph\n",
    "Once the model has been trained and saved, we can export it as a .bytes file which Unity can embed."
   ]
  },
  {
   "cell_type": "code",
   "execution_count": 5,
   "metadata": {},
   "outputs": [
    {
     "name": "stdout",
     "output_type": "stream",
     "text": [
      "INFO:tensorflow:Restoring parameters from ./models/ppo\\model-500001.cptk\n"
     ]
    },
    {
     "name": "stderr",
     "output_type": "stream",
     "text": [
      "INFO:tensorflow:Restoring parameters from ./models/ppo\\model-500001.cptk\n"
     ]
    },
    {
     "name": "stdout",
     "output_type": "stream",
     "text": [
      "INFO:tensorflow:Froze 7 variables.\n"
     ]
    },
    {
     "name": "stderr",
     "output_type": "stream",
     "text": [
      "INFO:tensorflow:Froze 7 variables.\n"
     ]
    },
    {
     "name": "stdout",
     "output_type": "stream",
     "text": [
      "Converted 7 variables to const ops.\n"
     ]
    }
   ],
   "source": [
    "export_graph(model_path, env_name)"
   ]
  }
 ],
 "metadata": {
  "anaconda-cloud": {},
  "kernelspec": {
   "display_name": "Python 3",
   "language": "python",
   "name": "python3"
  },
  "language_info": {
   "codemirror_mode": {
    "name": "ipython",
    "version": 3
   },
   "file_extension": ".py",
   "mimetype": "text/x-python",
   "name": "python",
   "nbconvert_exporter": "python",
   "pygments_lexer": "ipython3",
   "version": "3.6.2"
  }
 },
 "nbformat": 4,
 "nbformat_minor": 1
}
